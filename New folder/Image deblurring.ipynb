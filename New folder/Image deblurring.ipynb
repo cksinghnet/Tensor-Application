{
 "cells": [
  {
   "cell_type": "code",
   "execution_count": 2,
   "id": "dde0e2d0",
   "metadata": {},
   "outputs": [
    {
     "data": {
      "text/plain": [
       "torch.Tensor"
      ]
     },
     "execution_count": 2,
     "metadata": {},
     "output_type": "execute_result"
    }
   ],
   "source": [
    "import tensorflow as tf\n",
    "import torch\n",
    "\n",
    "\n",
    "# Load the image\n",
    "image = tf.io.read_file(\".\\Test-Videos-Image\\q3-Image-to-compresss.png\")\n",
    "image = tf.image.decode_jpeg(image, channels=3)  # Decode as RGB\n",
    "\n",
    "# Convert to tensor and normalize\n",
    "tensor_image = tf.image.convert_image_dtype(image, tf.float32)  # Normalizes to [0,1]\n",
    "\n",
    "\n",
    "A=tensor_image.numpy()\n",
    "A_tensor = torch.from_numpy(A)\n",
    "type(A_tensor)"
   ]
  },
  {
   "cell_type": "code",
   "execution_count": 3,
   "id": "84b50fa3",
   "metadata": {},
   "outputs": [
    {
     "data": {
      "text/plain": [
       "numpy.ndarray"
      ]
     },
     "execution_count": 3,
     "metadata": {},
     "output_type": "execute_result"
    }
   ],
   "source": [
    "type(A)"
   ]
  },
  {
   "cell_type": "code",
   "execution_count": 4,
   "id": "8f10d75d",
   "metadata": {},
   "outputs": [],
   "source": [
    "#Create any X with same size which we will use to blur image \n",
    "import torch\n",
    "import numpy as np\n",
    "\n",
    "# Create a random tensor of size (3, 4) with float values between 0 and 1\n",
    "random_tensor = torch.rand( 1968,2000, 3)\n",
    "\n",
    "\n",
    "X=random_tensor.numpy()"
   ]
  },
  {
   "cell_type": "code",
   "execution_count": 5,
   "id": "51c0b604",
   "metadata": {},
   "outputs": [],
   "source": [
    "X_inverse=torch.linalg.pinv(random_tensor)"
   ]
  },
  {
   "cell_type": "code",
   "execution_count": 7,
   "id": "69dd5354",
   "metadata": {},
   "outputs": [
    {
     "data": {
      "text/plain": [
       "torch.Size([1968, 3, 2000])"
      ]
     },
     "execution_count": 7,
     "metadata": {},
     "output_type": "execute_result"
    }
   ],
   "source": [
    "X_inverse.shape"
   ]
  },
  {
   "cell_type": "code",
   "execution_count": 8,
   "id": "6becb0d5",
   "metadata": {},
   "outputs": [
    {
     "data": {
      "text/plain": [
       "torch.Tensor"
      ]
     },
     "execution_count": 8,
     "metadata": {},
     "output_type": "execute_result"
    }
   ],
   "source": [
    "type(random_tensor)"
   ]
  },
  {
   "cell_type": "code",
   "execution_count": 7,
   "id": "92b1ecf3",
   "metadata": {},
   "outputs": [
    {
     "data": {
      "text/plain": [
       "numpy.ndarray"
      ]
     },
     "execution_count": 7,
     "metadata": {},
     "output_type": "execute_result"
    }
   ],
   "source": [
    "type(X)"
   ]
  },
  {
   "cell_type": "code",
   "execution_count": 5,
   "id": "0ef2354c",
   "metadata": {},
   "outputs": [
    {
     "data": {
      "text/plain": [
       "numpy.ndarray"
      ]
     },
     "execution_count": 5,
     "metadata": {},
     "output_type": "execute_result"
    }
   ],
   "source": [
    "import numpy as np\n",
    "A=np.random.randint(1,4,(2000,1996,3))\n",
    "type(A)"
   ]
  },
  {
   "cell_type": "code",
   "execution_count": null,
   "id": "036b05cc",
   "metadata": {},
   "outputs": [],
   "source": [
    "def TesInverse(A):\n",
    "    AI=np.zeros(( 1968,2000, 3),dtype=complex)\n",
    "    Af=np.fft.fft(A,axis=2)\n",
    "    for i in range(3):\n",
    "        AI[:,:,i]=np.linalg.pinv(Af[:,:,i])\n",
    "    AInv=np.fft.ifft(AI,axis=2).real\n",
    "    return AInv\n",
    "X_Inv=TesInverse(X)"
   ]
  },
  {
   "cell_type": "code",
   "execution_count": null,
   "id": "133dcac8",
   "metadata": {},
   "outputs": [],
   "source": [
    "X_Inv.shape"
   ]
  },
  {
   "cell_type": "code",
   "execution_count": null,
   "id": "f9b5dd3a",
   "metadata": {},
   "outputs": [],
   "source": []
  },
  {
   "cell_type": "code",
   "execution_count": 3,
   "id": "bcb70ec1",
   "metadata": {},
   "outputs": [
    {
     "data": {
      "text/plain": [
       "(1968, 2000, 3)"
      ]
     },
     "execution_count": 3,
     "metadata": {},
     "output_type": "execute_result"
    }
   ],
   "source": [
    "X.shape"
   ]
  },
  {
   "cell_type": "code",
   "execution_count": 4,
   "id": "e17005d0",
   "metadata": {},
   "outputs": [],
   "source": [
    "def tProduct(A,B,o):\n",
    "    AFFT=np.fft.fft(A,axis=o-1)\n",
    "    BFFT=np.fft.fft(B,axis=o-1)\n",
    "    CFFT=np.zeros((A.shape[0],B.shape[1],o),dtype=complex)\n",
    "    for i in range(o):\n",
    "        CFFT[:,:,i]=np.dot(AFFT[:,:,i],BFFT[:,:,i])\n",
    "    C=np.fft.ifft(CFFT)\n",
    "    return C.real\n",
    "    "
   ]
  },
  {
   "cell_type": "code",
   "execution_count": 5,
   "id": "41bc2fd0",
   "metadata": {},
   "outputs": [],
   "source": [
    "def t_product(A, B):\n",
    "    A_fft = torch.fft.fft(A, dim=2)\n",
    "    B_fft = torch.fft.fft(B, dim=2)\n",
    "    C_fft = torch.einsum('mnk, npk -> mpk', A_fft, B_fft)\n",
    "    C = torch.fft.ifft(C_fft, dim=2).real\n",
    "    return C"
   ]
  },
  {
   "cell_type": "code",
   "execution_count": 12,
   "id": "ff5e42d5",
   "metadata": {},
   "outputs": [
    {
     "data": {
      "text/plain": [
       "torch.Tensor"
      ]
     },
     "execution_count": 12,
     "metadata": {},
     "output_type": "execute_result"
    }
   ],
   "source": [
    "B=t_product(A_tensor,random_tensor)\n",
    "type(B)"
   ]
  },
  {
   "cell_type": "code",
   "execution_count": 20,
   "id": "694ce654",
   "metadata": {},
   "outputs": [
    {
     "data": {
      "text/plain": [
       "torch.Size([2000, 2000, 3])"
      ]
     },
     "execution_count": 20,
     "metadata": {},
     "output_type": "execute_result"
    }
   ],
   "source": [
    "B.shape"
   ]
  },
  {
   "cell_type": "code",
   "execution_count": 18,
   "id": "ec14fa77",
   "metadata": {},
   "outputs": [],
   "source": [
    "tensor_Chw = B.permute(2, 0, 1)"
   ]
  },
  {
   "cell_type": "code",
   "execution_count": 19,
   "id": "41144b6a",
   "metadata": {},
   "outputs": [
    {
     "data": {
      "text/plain": [
       "torch.Size([3, 2000, 2000])"
      ]
     },
     "execution_count": 19,
     "metadata": {},
     "output_type": "execute_result"
    }
   ],
   "source": [
    "tensor_Chw.shape"
   ]
  },
  {
   "cell_type": "code",
   "execution_count": 23,
   "id": "230a8b37",
   "metadata": {},
   "outputs": [],
   "source": [
    "import torch\n",
    "import torchvision.transforms as transforms\n",
    "from PIL import Image\n",
    "\n",
    "\n",
    "# Convert tensor to PIL image\n",
    "to_pil = transforms.ToPILImage()\n",
    "image = to_pil(tensor_Chw)\n",
    "\n",
    "# Show the image\n",
    "image.show()\n",
    "\n",
    "# Save the image\n",
    "image.save(\"output_image.jpg\")\n"
   ]
  },
  {
   "cell_type": "code",
   "execution_count": null,
   "id": "b30dba22",
   "metadata": {},
   "outputs": [],
   "source": []
  }
 ],
 "metadata": {
  "kernelspec": {
   "display_name": "Python 3 (ipykernel)",
   "language": "python",
   "name": "python3"
  },
  "language_info": {
   "codemirror_mode": {
    "name": "ipython",
    "version": 3
   },
   "file_extension": ".py",
   "mimetype": "text/x-python",
   "name": "python",
   "nbconvert_exporter": "python",
   "pygments_lexer": "ipython3",
   "version": "3.11.4"
  }
 },
 "nbformat": 4,
 "nbformat_minor": 5
}
