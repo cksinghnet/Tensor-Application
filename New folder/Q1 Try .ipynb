{
 "cells": [
  {
   "cell_type": "code",
   "execution_count": 1,
   "id": "56f704c7",
   "metadata": {},
   "outputs": [],
   "source": [
    "import numpy as np\n"
   ]
  },
  {
   "cell_type": "code",
   "execution_count": 5,
   "id": "1b045649",
   "metadata": {},
   "outputs": [
    {
     "data": {
      "text/plain": [
       "array([[[0.10296407, 0.46013405, 0.25206218],\n",
       "        [0.86258096, 0.22784617, 0.68295051],\n",
       "        [0.50813609, 0.66649912, 0.28626777]],\n",
       "\n",
       "       [[0.47554103, 0.2419302 , 0.68581627],\n",
       "        [0.8305085 , 0.33443162, 0.2650076 ],\n",
       "        [0.071837  , 0.21757278, 0.83797268]],\n",
       "\n",
       "       [[0.56296579, 0.58518562, 0.47940734],\n",
       "        [0.6586859 , 0.83576602, 0.31556957],\n",
       "        [0.42514433, 0.11432446, 0.3018554 ]]])"
      ]
     },
     "execution_count": 5,
     "metadata": {},
     "output_type": "execute_result"
    }
   ],
   "source": [
    "A=np.random.rand(3,3,3)\n",
    "A"
   ]
  },
  {
   "cell_type": "code",
   "execution_count": 6,
   "id": "b1cf16e9",
   "metadata": {},
   "outputs": [],
   "source": [
    "V=np.zeros((3,1,3))\n",
    "D=np.zeros((3,3,3))\n",
    "Af=np.fft.fft(A,axis=2)\n",
    "    "
   ]
  },
  {
   "cell_type": "code",
   "execution_count": 56,
   "id": "1131b4f2",
   "metadata": {},
   "outputs": [],
   "source": [
    "\n",
    "for i in range(1):\n",
    "    V1,D1=np.linalg.eig(Af[:,:,i])"
   ]
  },
  {
   "cell_type": "code",
   "execution_count": 61,
   "id": "69373500",
   "metadata": {},
   "outputs": [
    {
     "data": {
      "text/plain": [
       "array([3.5358201 -1.11022302e-16j, 0.30530596+4.14317100e-01j,\n",
       "       0.30530596-4.14317100e-01j])"
      ]
     },
     "execution_count": 61,
     "metadata": {},
     "output_type": "execute_result"
    }
   ],
   "source": [
    "V1"
   ]
  },
  {
   "cell_type": "code",
   "execution_count": 62,
   "id": "6690db2d",
   "metadata": {},
   "outputs": [
    {
     "data": {
      "text/plain": [
       "array([[ 0.52277275-8.32667268e-17j, -0.50091224+2.84716348e-01j,\n",
       "        -0.50091224-2.84716348e-01j],\n",
       "       [ 0.64744346+0.00000000e+00j, -0.23407734-3.25950772e-01j,\n",
       "        -0.23407734+3.25950772e-01j],\n",
       "       [ 0.55454992-2.77555756e-17j,  0.71203049+0.00000000e+00j,\n",
       "         0.71203049+0.00000000e+00j]])"
      ]
     },
     "execution_count": 62,
     "metadata": {},
     "output_type": "execute_result"
    }
   ],
   "source": [
    "D1"
   ]
  },
  {
   "cell_type": "code",
   "execution_count": 25,
   "id": "cad4f928",
   "metadata": {},
   "outputs": [],
   "source": [
    "V=np.zeros((3,3,3),dtype=complex)\n",
    "D=np.zeros((3,3,3),dtype=complex)\n"
   ]
  },
  {
   "cell_type": "code",
   "execution_count": 49,
   "id": "03f72f98",
   "metadata": {},
   "outputs": [],
   "source": [
    "\n",
    "for i in range(3):\n",
    "    D1,V1=np.linalg.eig(Af[:,:,i])\n",
    "    V[:,:,i]=V1\n",
    "    D[:,:,i]=np.diag(D1)\n",
    "    \n",
    "    "
   ]
  },
  {
   "cell_type": "code",
   "execution_count": 50,
   "id": "c8a20f03",
   "metadata": {},
   "outputs": [
    {
     "data": {
      "text/plain": [
       "array([[ 0.57234201-0.j,  0.79091486+0.j, -0.41253281+0.j],\n",
       "       [ 0.55874458-0.j, -0.21531273+0.j,  0.7157665 +0.j],\n",
       "       [ 0.6001909 +0.j, -0.572795  +0.j, -0.56346695+0.j]])"
      ]
     },
     "execution_count": 50,
     "metadata": {},
     "output_type": "execute_result"
    }
   ],
   "source": [
    "V[:,:,0]"
   ]
  },
  {
   "cell_type": "code",
   "execution_count": 51,
   "id": "63eab550",
   "metadata": {},
   "outputs": [
    {
     "data": {
      "text/plain": [
       "array([[ 4.07839415+0.j,  0.        +0.j,  0.        +0.j],\n",
       "       [ 0.        +0.j, -0.72562338+0.j,  0.        +0.j],\n",
       "       [ 0.        +0.j,  0.        +0.j, -0.26633857+0.j]])"
      ]
     },
     "execution_count": 51,
     "metadata": {},
     "output_type": "execute_result"
    }
   ],
   "source": [
    "D[:,:,0]"
   ]
  },
  {
   "cell_type": "code",
   "execution_count": 52,
   "id": "b5ca044b",
   "metadata": {},
   "outputs": [
    {
     "data": {
      "text/plain": [
       "array([[ 0.20195117-0.17396869j,  0.85176979+0.j        ,\n",
       "         0.79700764+0.j        ],\n",
       "       [ 0.78088214+0.j        , -0.30238132+0.37912164j,\n",
       "         0.14403096-0.16012557j],\n",
       "       [-0.03012793+0.5641507j ,  0.08895175+0.17722336j,\n",
       "        -0.29498778-0.48101551j]])"
      ]
     },
     "execution_count": 52,
     "metadata": {},
     "output_type": "execute_result"
    }
   ],
   "source": [
    "V1"
   ]
  },
  {
   "cell_type": "code",
   "execution_count": 53,
   "id": "1d8f15c1",
   "metadata": {},
   "outputs": [
    {
     "name": "stderr",
     "output_type": "stream",
     "text": [
      "C:\\Users\\cks12\\AppData\\Local\\Temp\\ipykernel_6316\\3817705093.py:3: ComplexWarning: Casting complex values to real discards the imaginary part\n",
      "  S[:,:,i]=np.dot(V[:,:,i],np.sqrt(D[:,:,i]),np.linalg.inv(V[:,:,i]))\n"
     ]
    }
   ],
   "source": [
    "S=np.zeros((3,3,3))\n",
    "for i in range(3):\n",
    "    S[:,:,i]=np.dot(V[:,:,i],np.sqrt(D[:,:,i]),np.linalg.inv(V[:,:,i]))"
   ]
  },
  {
   "cell_type": "code",
   "execution_count": 58,
   "id": "712f1511",
   "metadata": {},
   "outputs": [
    {
     "data": {
      "text/plain": [
       "array([[[ 0.49062174,  0.33261246,  0.33261246],\n",
       "        [ 0.22938455, -0.11469228, -0.11469228],\n",
       "        [ 0.09418686, -0.04709343, -0.04709343]],\n",
       "\n",
       "       [[ 0.86683509,  0.13077576,  0.13077576],\n",
       "        [-0.25110031,  0.12555016,  0.12555016],\n",
       "        [-0.01726801,  0.008634  ,  0.008634  ]],\n",
       "\n",
       "       [[ 0.45503348,  0.37852706,  0.37852706],\n",
       "        [-0.0553576 ,  0.0276788 ,  0.0276788 ],\n",
       "        [-0.13786401,  0.068932  ,  0.068932  ]]])"
      ]
     },
     "execution_count": 58,
     "metadata": {},
     "output_type": "execute_result"
    }
   ],
   "source": [
    "Sf=np.fft.ifft(S,axis=2)\n",
    "Sf.real"
   ]
  },
  {
   "cell_type": "code",
   "execution_count": 63,
   "id": "a519a3c5",
   "metadata": {},
   "outputs": [],
   "source": [
    "A=np.random.rand(3,3)"
   ]
  },
  {
   "cell_type": "code",
   "execution_count": 64,
   "id": "49545e78",
   "metadata": {},
   "outputs": [
    {
     "data": {
      "text/plain": [
       "array([[0.98261275, 0.69716208, 0.74862663],\n",
       "       [0.47276707, 0.58033808, 0.93661475],\n",
       "       [0.39608769, 0.8977583 , 0.23451248]])"
      ]
     },
     "execution_count": 64,
     "metadata": {},
     "output_type": "execute_result"
    }
   ],
   "source": [
    "A"
   ]
  },
  {
   "cell_type": "code",
   "execution_count": 65,
   "id": "7bc457e9",
   "metadata": {},
   "outputs": [
    {
     "data": {
      "text/plain": [
       "array([[0.98261275, 0.47276707, 0.39608769],\n",
       "       [0.69716208, 0.58033808, 0.8977583 ],\n",
       "       [0.74862663, 0.93661475, 0.23451248]])"
      ]
     },
     "execution_count": 65,
     "metadata": {},
     "output_type": "execute_result"
    }
   ],
   "source": [
    "A.T"
   ]
  },
  {
   "cell_type": "code",
   "execution_count": 66,
   "id": "880f43fa",
   "metadata": {},
   "outputs": [
    {
     "data": {
      "text/plain": [
       "array([[2.01200462, 1.57031141, 1.19064616],\n",
       "       [1.57031141, 1.43754819, 0.9279084 ],\n",
       "       [1.19064616, 0.9279084 , 1.01785154]])"
      ]
     },
     "execution_count": 66,
     "metadata": {},
     "output_type": "execute_result"
    }
   ],
   "source": [
    "A@A.T"
   ]
  },
  {
   "cell_type": "code",
   "execution_count": 68,
   "id": "6375a979",
   "metadata": {},
   "outputs": [],
   "source": [
    "def symPositiveDef(n,p,m):\n",
    "    Pd=np.zeros((n,p,m))\n",
    "    for i in range(m):\n",
    "        A=np.random.rand(n,p)\n",
    "        Pd[:,:,i]=A@A.T+ n* np.eye(n)\n",
    "    return Pd\n",
    "    "
   ]
  },
  {
   "cell_type": "code",
   "execution_count": 70,
   "id": "854b9c74",
   "metadata": {},
   "outputs": [],
   "source": [
    "A=symPositiveDef(3,3,3)"
   ]
  },
  {
   "cell_type": "code",
   "execution_count": 72,
   "id": "a29d6f4e",
   "metadata": {},
   "outputs": [],
   "source": [
    "def SqrtOfsymPositiveDef(A):\n",
    "    m,n,p=A.shape\n",
    "    Af=np.fft.fft(A,axis=2)\n",
    "    V=np.zeros((m,n,p),dtype=complex)\n",
    "    D=np.zeros((m,n,p),dtype=complex)\n",
    "    Sf=np.zeros((m,n,p),dtype=complex)\n",
    "    for i in range(p):\n",
    "        Eval,EVec=np.linalg.eig(Af[:,:,i])\n",
    "        V[:,:,i]=EVec\n",
    "        D[:,:,i]=np.diag(Eval)\n",
    "        Sf[:,:,i]=np.dot(V[:,:,i],np.sqrt(D[:,:,i]),np.linalg.inv(V[:,:,i]))\n",
    "    S=np.fft.ifft(Sf,axis=2)\n",
    "    return S.real\n",
    "        "
   ]
  },
  {
   "cell_type": "code",
   "execution_count": 73,
   "id": "5fafe606",
   "metadata": {},
   "outputs": [
    {
     "data": {
      "text/plain": [
       "array([[[ 1.07178466,  0.36874303,  1.10455895],\n",
       "        [ 1.02092651,  0.88486372,  0.51517585],\n",
       "        [ 0.14974651,  0.01973317,  0.09014807]],\n",
       "\n",
       "       [[ 1.33454307, -0.08840036,  1.31785936],\n",
       "        [-0.44826684, -0.61527451, -0.40287932],\n",
       "        [-0.69927981, -0.62022798, -0.55769989]],\n",
       "\n",
       "       [[ 0.97592586, -0.14644033,  0.88787517],\n",
       "        [-0.66665969, -0.33322318, -0.39857864],\n",
       "        [ 0.86601353,  0.83905711,  0.71281937]]])"
      ]
     },
     "execution_count": 73,
     "metadata": {},
     "output_type": "execute_result"
    }
   ],
   "source": [
    "SqrtOfsymPositiveDef(A)"
   ]
  },
  {
   "cell_type": "code",
   "execution_count": null,
   "id": "2e0e27c0",
   "metadata": {},
   "outputs": [],
   "source": []
  }
 ],
 "metadata": {
  "kernelspec": {
   "display_name": "Python 3 (ipykernel)",
   "language": "python",
   "name": "python3"
  },
  "language_info": {
   "codemirror_mode": {
    "name": "ipython",
    "version": 3
   },
   "file_extension": ".py",
   "mimetype": "text/x-python",
   "name": "python",
   "nbconvert_exporter": "python",
   "pygments_lexer": "ipython3",
   "version": "3.11.4"
  }
 },
 "nbformat": 4,
 "nbformat_minor": 5
}
