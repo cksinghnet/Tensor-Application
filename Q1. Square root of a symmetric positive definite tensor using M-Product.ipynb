{
 "cells": [
  {
   "cell_type": "code",
   "execution_count": 10,
   "id": "56f704c7",
   "metadata": {},
   "outputs": [],
   "source": [
    "import numpy as np"
   ]
  },
  {
   "cell_type": "code",
   "execution_count": 11,
   "id": "6375a979",
   "metadata": {},
   "outputs": [],
   "source": [
    "def symPositiveDef(n,p,m):\n",
    "    Pd=np.zeros((n,p,m))\n",
    "    for i in range(m):\n",
    "        A=np.random.rand(n,p)\n",
    "        Pd[:,:,i]=A@A.T+ n* np.eye(n)\n",
    "    return Pd\n",
    "    "
   ]
  },
  {
   "cell_type": "code",
   "execution_count": 17,
   "id": "a29d6f4e",
   "metadata": {},
   "outputs": [],
   "source": [
    "def SqrtOfsymPositiveDef(A):\n",
    "    m,n,p=A.shape\n",
    "    M=np.diag(range(1,p+1))\n",
    "    M_inv = np.linalg.inv(M)\n",
    "    Am=np.einsum(\"ij,lkj->lki\",M,A)\n",
    "    \n",
    "    V=np.zeros((m,n,p))\n",
    "    D=np.zeros((m,n,p))\n",
    "    Sf=np.zeros((m,n,p))\n",
    "    for i in range(p):\n",
    "        Eval,EVec=np.linalg.eig(Am[:,:,i])\n",
    "        V[:,:,i]=EVec\n",
    "        D[:,:,i]=np.diag(Eval)\n",
    "        Sf[:,:,i]=V[:,:,i] @ np.sqrt(D[:,:,i]) @ V[:,:,i].T\n",
    "    S=np.einsum(\"ij,lkj->lki\",M_inv,Sf)\n",
    "    return S\n",
    "        "
   ]
  },
  {
   "cell_type": "code",
   "execution_count": 18,
   "id": "854b9c74",
   "metadata": {},
   "outputs": [
    {
     "data": {
      "text/plain": [
       "array([[[4.34835914, 3.33872657, 3.61577912],\n",
       "        [0.73977605, 0.36698138, 0.72286985],\n",
       "        [0.46978087, 0.68802286, 0.57458672]],\n",
       "\n",
       "       [[0.73977605, 0.36698138, 0.72286985],\n",
       "        [3.73052593, 3.50325656, 4.37702571],\n",
       "        [0.0952286 , 0.7309939 , 1.29291797]],\n",
       "\n",
       "       [[0.46978087, 0.68802286, 0.57458672],\n",
       "        [0.0952286 , 0.7309939 , 1.29291797],\n",
       "        [3.24503461, 4.53144234, 4.36969656]]])"
      ]
     },
     "execution_count": 18,
     "metadata": {},
     "output_type": "execute_result"
    }
   ],
   "source": [
    "A=symPositiveDef(3,3,3)\n",
    "A"
   ]
  },
  {
   "cell_type": "code",
   "execution_count": 19,
   "id": "5fafe606",
   "metadata": {},
   "outputs": [
    {
     "data": {
      "text/plain": [
       "array([[[2.07359691, 1.28475361, 1.09065118],\n",
       "        [0.18453219, 0.06464782, 0.09969094],\n",
       "        [0.12042788, 0.12079782, 0.07616709]],\n",
       "\n",
       "       [[0.18453219, 0.06464782, 0.09969094],\n",
       "        [1.92252142, 1.31577144, 1.19057751],\n",
       "        [0.01962636, 0.12725741, 0.17775117]],\n",
       "\n",
       "       [[0.12042788, 0.12079782, 0.07616709],\n",
       "        [0.01962636, 0.12725741, 0.17775117],\n",
       "        [1.79726084, 1.49496977, 1.19128864]]])"
      ]
     },
     "execution_count": 19,
     "metadata": {},
     "output_type": "execute_result"
    }
   ],
   "source": [
    "SqrtOfsymPositiveDef(A)"
   ]
  },
  {
   "cell_type": "code",
   "execution_count": null,
   "id": "2e0e27c0",
   "metadata": {},
   "outputs": [],
   "source": []
  },
  {
   "cell_type": "code",
   "execution_count": null,
   "id": "aca2d439",
   "metadata": {},
   "outputs": [],
   "source": []
  }
 ],
 "metadata": {
  "kernelspec": {
   "display_name": "Python 3 (ipykernel)",
   "language": "python",
   "name": "python3"
  },
  "language_info": {
   "codemirror_mode": {
    "name": "ipython",
    "version": 3
   },
   "file_extension": ".py",
   "mimetype": "text/x-python",
   "name": "python",
   "nbconvert_exporter": "python",
   "pygments_lexer": "ipython3",
   "version": "3.11.4"
  }
 },
 "nbformat": 4,
 "nbformat_minor": 5
}
