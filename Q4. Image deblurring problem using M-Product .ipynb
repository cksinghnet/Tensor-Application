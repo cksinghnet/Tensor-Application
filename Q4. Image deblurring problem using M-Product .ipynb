{
 "cells": [
  {
   "cell_type": "code",
   "execution_count": 1,
   "id": "dde0e2d0",
   "metadata": {},
   "outputs": [],
   "source": [
    "from PIL import Image\n",
    "import numpy as np\n",
    "\n",
    "image = Image.open(\".\\Test-Videos-Image\\q3-Image-to-compresss.png\")\n",
    "A = np.array(image)"
   ]
  },
  {
   "cell_type": "code",
   "execution_count": 2,
   "id": "47623efc",
   "metadata": {},
   "outputs": [
    {
     "data": {
      "text/plain": [
       "(2000, 1968, 3)"
      ]
     },
     "execution_count": 2,
     "metadata": {},
     "output_type": "execute_result"
    }
   ],
   "source": [
    "A.shape"
   ]
  },
  {
   "cell_type": "code",
   "execution_count": 3,
   "id": "8f10d75d",
   "metadata": {},
   "outputs": [
    {
     "data": {
      "text/plain": [
       "(1968, 2000, 3)"
      ]
     },
     "execution_count": 3,
     "metadata": {},
     "output_type": "execute_result"
    }
   ],
   "source": [
    "X= np.random.randint( 10,15,(1968,2000, 3))\n",
    "\n",
    "X.shape"
   ]
  },
  {
   "cell_type": "code",
   "execution_count": 4,
   "id": "036b05cc",
   "metadata": {},
   "outputs": [],
   "source": [
    "def MInverse(A):\n",
    "    Ma,Na,Pa=A.shape\n",
    "    AI=np.zeros(( 2000,1968, 3))\n",
    "    M=np.diag(range(1,Pa+1))\n",
    "    M_inv = np.linalg.inv(M)         \n",
    "    Am=np.einsum(\"lk,ijk->ijl\",M,A)\n",
    "    \n",
    "    for i in range(3):\n",
    "        AI[:,:,i]=np.linalg.pinv(Am[:,:,i])\n",
    "    AInv=np.einsum(\"lk,ijk->ijl\",M_inv,AI)\n",
    "    return AInv\n",
    "X_Inv=MInverse(X)"
   ]
  },
  {
   "cell_type": "code",
   "execution_count": 5,
   "id": "133dcac8",
   "metadata": {},
   "outputs": [
    {
     "data": {
      "text/plain": [
       "(2000, 1968, 3)"
      ]
     },
     "execution_count": 5,
     "metadata": {},
     "output_type": "execute_result"
    }
   ],
   "source": [
    "X_Inv.shape"
   ]
  },
  {
   "cell_type": "code",
   "execution_count": 6,
   "id": "e17005d0",
   "metadata": {},
   "outputs": [],
   "source": [
    "def mProduct(A,B):\n",
    "    Ma,Na,Pa=A.shape\n",
    "    Mb,Nb,Pb=B.shape\n",
    "    if Pa==Pb and Na==Mb:\n",
    "        print(\"Inverse Possible\")\n",
    "        M=np.diag(range(1,Pa+1))\n",
    "        M_inv = np.linalg.inv(M)         \n",
    "        Am=np.einsum(\"lk,ijk->ijl\",M,A)\n",
    "        Bm=np.einsum(\"lk,ijk->ijl\",M,B)\n",
    "        ABm=np.zeros((Ma,Nb,Pa))\n",
    "        for i in range(Pa):\n",
    "            ABm[:,:,i]=np.dot(Am[:,:,i],Bm[:,:,i])\n",
    "        AB=np.einsum(\"lk,ijk->ijl\",M_inv,ABm)\n",
    "        return AB\n",
    "        \n",
    "    else:\n",
    "        Print(\"M product not possible\")"
   ]
  },
  {
   "cell_type": "code",
   "execution_count": 7,
   "id": "ff5e42d5",
   "metadata": {},
   "outputs": [
    {
     "name": "stdout",
     "output_type": "stream",
     "text": [
      "Inverse Possible\n"
     ]
    },
    {
     "data": {
      "text/plain": [
       "numpy.ndarray"
      ]
     },
     "execution_count": 7,
     "metadata": {},
     "output_type": "execute_result"
    }
   ],
   "source": [
    "B=mProduct(A,X)\n",
    "type(B)"
   ]
  },
  {
   "cell_type": "code",
   "execution_count": 8,
   "id": "694ce654",
   "metadata": {},
   "outputs": [
    {
     "data": {
      "text/plain": [
       "(2000, 2000, 3)"
      ]
     },
     "execution_count": 8,
     "metadata": {},
     "output_type": "execute_result"
    }
   ],
   "source": [
    "B.shape"
   ]
  },
  {
   "cell_type": "code",
   "execution_count": 9,
   "id": "ec14fa77",
   "metadata": {},
   "outputs": [
    {
     "name": "stdout",
     "output_type": "stream",
     "text": [
      "Inverse Possible\n"
     ]
    },
    {
     "data": {
      "text/plain": [
       "(2000, 1968, 3)"
      ]
     },
     "execution_count": 9,
     "metadata": {},
     "output_type": "execute_result"
    }
   ],
   "source": [
    "B_get=mProduct(B,X_Inv)\n",
    "B_get.shape"
   ]
  },
  {
   "cell_type": "code",
   "execution_count": 18,
   "id": "230a8b37",
   "metadata": {},
   "outputs": [],
   "source": [
    "numpy_array_uint8 = (B).astype(np.uint8)\n",
    "image1 = Image.fromarray(numpy_array_uint8)\n",
    "\n",
    "image1.save(\"Output\\Q4\\Image_blur_Mproduct.png\")"
   ]
  },
  {
   "cell_type": "code",
   "execution_count": 16,
   "id": "b30dba22",
   "metadata": {},
   "outputs": [],
   "source": [
    "numpy_array_uint7 = (B_get).astype(np.uint8)\n",
    "image2 = Image.fromarray(numpy_array_uint7)\n",
    "\n",
    "\n",
    "image2.save(\"Output\\Q4\\Original_image_Reconstructed_using_blur_Mproduct.png\")"
   ]
  },
  {
   "cell_type": "code",
   "execution_count": null,
   "id": "30f0f649",
   "metadata": {},
   "outputs": [],
   "source": []
  }
 ],
 "metadata": {
  "kernelspec": {
   "display_name": "Python 3 (ipykernel)",
   "language": "python",
   "name": "python3"
  },
  "language_info": {
   "codemirror_mode": {
    "name": "ipython",
    "version": 3
   },
   "file_extension": ".py",
   "mimetype": "text/x-python",
   "name": "python",
   "nbconvert_exporter": "python",
   "pygments_lexer": "ipython3",
   "version": "3.11.4"
  }
 },
 "nbformat": 4,
 "nbformat_minor": 5
}
