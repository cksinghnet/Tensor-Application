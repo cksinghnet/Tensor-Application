{
 "cells": [
  {
   "cell_type": "code",
   "execution_count": 1,
   "id": "90512b23",
   "metadata": {},
   "outputs": [],
   "source": [
    "import numpy as np\n",
    "from scipy.linalg import svd\n",
    "\n",
    "def svdByMproduct(A):\n",
    "    m,n,p=A.shape\n",
    "    M=np.diag(range(1,p+1))\n",
    "    M_inv = np.linalg.inv(M)\n",
    "    Am=np.einsum(\"lk,ijk->ijl\",M,A)\n",
    "    UFT=np.zeros((m,m,p))\n",
    "    DFT=np.zeros((m,n,p))\n",
    "    VFT=np.zeros((n,n,p))\n",
    "    \n",
    "    for i in range(p):\n",
    "        U_F , D_F , V_F =svd(Am[:,:,i])\n",
    "        UFT[:,:,i]=U_F\n",
    "        D_m=np.zeros((m,n))\n",
    "        np.fill_diagonal(D_m,D_F)\n",
    "        DFT[:,:,i]=D_m\n",
    "        VFT[:,:,i]=V_F.T\n",
    "    D=np.zeros(())\n",
    "    U=np.einsum(\"lk,ijk->ijl\",M_inv,UFT)\n",
    "    D=np.einsum(\"lk,ijk->ijl\",M_inv,DFT)\n",
    "    V=np.einsum(\"lk,ijk->ijl\",M_inv,VFT)\n",
    "   \n",
    "    return U , D , V"
   ]
  },
  {
   "cell_type": "code",
   "execution_count": 2,
   "id": "5cb7a26a",
   "metadata": {},
   "outputs": [],
   "source": [
    "from PIL import Image\n",
    "import numpy as np\n",
    "\n",
    "image = Image.open(\".\\Test-Videos-Image\\q3-Image-to-compresss.png\")\n",
    "A = np.array(image)"
   ]
  },
  {
   "cell_type": "code",
   "execution_count": 3,
   "id": "e151b56a",
   "metadata": {},
   "outputs": [
    {
     "data": {
      "text/plain": [
       "(2000, 1968, 3)"
      ]
     },
     "execution_count": 3,
     "metadata": {},
     "output_type": "execute_result"
    }
   ],
   "source": [
    "A.shape"
   ]
  },
  {
   "cell_type": "code",
   "execution_count": 4,
   "id": "64d83781",
   "metadata": {},
   "outputs": [],
   "source": [
    "u,d,v=svdByMproduct(A)"
   ]
  },
  {
   "cell_type": "code",
   "execution_count": 5,
   "id": "095017f2",
   "metadata": {},
   "outputs": [
    {
     "data": {
      "text/plain": [
       "(2000, 2000, 3)"
      ]
     },
     "execution_count": 5,
     "metadata": {},
     "output_type": "execute_result"
    }
   ],
   "source": [
    "u.shape"
   ]
  },
  {
   "cell_type": "code",
   "execution_count": 6,
   "id": "c36f4172",
   "metadata": {},
   "outputs": [
    {
     "data": {
      "text/plain": [
       "(2000, 1968, 3)"
      ]
     },
     "execution_count": 6,
     "metadata": {},
     "output_type": "execute_result"
    }
   ],
   "source": [
    "d.shape"
   ]
  },
  {
   "cell_type": "code",
   "execution_count": 7,
   "id": "f2e03cc0",
   "metadata": {},
   "outputs": [
    {
     "data": {
      "text/plain": [
       "(1968, 1968, 3)"
      ]
     },
     "execution_count": 7,
     "metadata": {},
     "output_type": "execute_result"
    }
   ],
   "source": [
    "v.shape"
   ]
  },
  {
   "cell_type": "code",
   "execution_count": 9,
   "id": "62913c39",
   "metadata": {},
   "outputs": [],
   "source": [
    "u1=np.zeros((1500,1500,3))\n",
    "d1=np.zeros((1500,1500,3))\n",
    "v1=np.zeros((1500,1500,3))\n",
    "for i in range(1500):\n",
    "    for j in range(1500):\n",
    "        for k in range(3):\n",
    "            u1[i,j,k]=u[i,j,k]\n",
    "            d1[i,j,k]=d[i,j,k]\n",
    "            v1[i,j,k]=v[i,j,k]   "
   ]
  },
  {
   "cell_type": "code",
   "execution_count": 10,
   "id": "3e74a988",
   "metadata": {},
   "outputs": [],
   "source": [
    "def mProduct(A,B):\n",
    "    Ma,Na,Pa=A.shape\n",
    "    Mb,Nb,Pb=B.shape\n",
    "    if Pa==Pb and Na==Mb:\n",
    "        print(\"Inverse Possible\")\n",
    "        M=np.diag(range(1,Pa+1))\n",
    "        M_inv = np.linalg.inv(M)         \n",
    "        Am=np.einsum(\"lk,ijk->ijl\",M,A)\n",
    "        Bm=np.einsum(\"lk,ijk->ijl\",M,B)\n",
    "        ABm=np.zeros((Ma,Nb,Pa))\n",
    "        for i in range(Pa):\n",
    "            ABm[:,:,i]=np.dot(Am[:,:,i],Bm[:,:,i])\n",
    "        AB=np.einsum(\"lk,ijk->ijl\",M_inv,ABm)\n",
    "        return AB\n",
    "        \n",
    "    else:\n",
    "        Print(\"M product not possible\")"
   ]
  },
  {
   "cell_type": "code",
   "execution_count": 11,
   "id": "75b17eff",
   "metadata": {},
   "outputs": [],
   "source": [
    "def mTranspose(A):\n",
    "    Ma,Na,Pa=A.shape\n",
    "    M=np.diag(range(1,Pa+1))\n",
    "    M_inv = np.linalg.inv(M) \n",
    "    Am=np.einsum(\"lk,ijk->ijl\",M,A)\n",
    "    \n",
    "    CFFT=np.zeros((Ma,Na,Pa))\n",
    "    for i in range(Pa):\n",
    "        CFFT[:,:,i]=Am[:,:,i].T\n",
    "    C=np.einsum(\"lk,ijk->ijl\",M_inv,CFFT)\n",
    "    return C"
   ]
  },
  {
   "cell_type": "code",
   "execution_count": 12,
   "id": "ec940fea",
   "metadata": {},
   "outputs": [
    {
     "name": "stdout",
     "output_type": "stream",
     "text": [
      "Inverse Possible\n",
      "Inverse Possible\n"
     ]
    }
   ],
   "source": [
    "vt=mTranspose(v)\n",
    "M2=mProduct(mProduct(u,d),vt)"
   ]
  },
  {
   "cell_type": "code",
   "execution_count": 16,
   "id": "339487f2",
   "metadata": {},
   "outputs": [],
   "source": [
    "numpy_array_uint8 = (M2).astype(np.uint8)\n",
    "image1 = Image.fromarray(numpy_array_uint8)\n",
    "\n",
    "image1.save(\"Output\\Q3\\Original_image_MProduct.png\")"
   ]
  },
  {
   "cell_type": "code",
   "execution_count": 17,
   "id": "651fb31f",
   "metadata": {},
   "outputs": [
    {
     "name": "stdout",
     "output_type": "stream",
     "text": [
      "Inverse Possible\n",
      "Inverse Possible\n"
     ]
    }
   ],
   "source": [
    "v1t=mTranspose(v1)\n",
    "M3=mProduct(mProduct(u1,d1),v1t)"
   ]
  },
  {
   "cell_type": "code",
   "execution_count": 18,
   "id": "44bee179",
   "metadata": {},
   "outputs": [],
   "source": [
    "numpy_array_uint8 = (M3).astype(np.uint8)\n",
    "image1 = Image.fromarray(numpy_array_uint8)\n",
    "\n",
    "image1.save(\"Output\\Q3\\Compressed_image_MProduct.png\")"
   ]
  },
  {
   "cell_type": "code",
   "execution_count": null,
   "id": "5d68c90e",
   "metadata": {},
   "outputs": [],
   "source": []
  }
 ],
 "metadata": {
  "kernelspec": {
   "display_name": "Python 3 (ipykernel)",
   "language": "python",
   "name": "python3"
  },
  "language_info": {
   "codemirror_mode": {
    "name": "ipython",
    "version": 3
   },
   "file_extension": ".py",
   "mimetype": "text/x-python",
   "name": "python",
   "nbconvert_exporter": "python",
   "pygments_lexer": "ipython3",
   "version": "3.11.4"
  }
 },
 "nbformat": 4,
 "nbformat_minor": 5
}
