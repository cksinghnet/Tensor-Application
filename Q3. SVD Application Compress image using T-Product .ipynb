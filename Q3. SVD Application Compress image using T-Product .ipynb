{
 "cells": [
  {
   "cell_type": "code",
   "execution_count": 1,
   "id": "90512b23",
   "metadata": {},
   "outputs": [],
   "source": [
    "import numpy as np\n",
    "from scipy.linalg import svd\n",
    "\n",
    "def svdByTproduct(A):\n",
    "    m,n,p=A.shape\n",
    "\n",
    "    AFT=np.fft.fft(A,axis=2)\n",
    "    UFT=np.zeros((m,m,p),dtype=complex)\n",
    "    DFT=np.zeros((m,n,p),dtype=complex)\n",
    "    VFT=np.zeros((n,n,p),dtype=complex)\n",
    "    \n",
    "    for i in range(p):\n",
    "        U_F , D_F , V_F =svd(AFT[:,:,i])\n",
    "        UFT[:,:,i]=U_F\n",
    "        D_m=np.zeros((m,n))\n",
    "        np.fill_diagonal(D_m,D_F)\n",
    "        DFT[:,:,i]=D_m\n",
    "        VFT[:,:,i]=V_F.T\n",
    "    D=np.zeros(())\n",
    "    U=np.fft.ifft(UFT,axis=2)\n",
    "    D=np.fft.ifft(DFT,axis=2)\n",
    "    V=np.fft.ifft(VFT,axis=2)\n",
    "    return U.real , D.real , V.real "
   ]
  },
  {
   "cell_type": "code",
   "execution_count": 2,
   "id": "5cb7a26a",
   "metadata": {},
   "outputs": [],
   "source": [
    "from PIL import Image\n",
    "import numpy as np\n",
    "\n",
    "image = Image.open(\".\\Test-Videos-Image\\q3-Image-to-compresss.png\")\n",
    "A = np.array(image)"
   ]
  },
  {
   "cell_type": "code",
   "execution_count": 3,
   "id": "e151b56a",
   "metadata": {},
   "outputs": [
    {
     "data": {
      "text/plain": [
       "(2000, 1968, 3)"
      ]
     },
     "execution_count": 3,
     "metadata": {},
     "output_type": "execute_result"
    }
   ],
   "source": [
    "A.shape"
   ]
  },
  {
   "cell_type": "code",
   "execution_count": 4,
   "id": "64d83781",
   "metadata": {},
   "outputs": [],
   "source": [
    "u,d,v=svdByTproduct(A)"
   ]
  },
  {
   "cell_type": "code",
   "execution_count": 5,
   "id": "095017f2",
   "metadata": {},
   "outputs": [
    {
     "data": {
      "text/plain": [
       "(2000, 2000, 3)"
      ]
     },
     "execution_count": 5,
     "metadata": {},
     "output_type": "execute_result"
    }
   ],
   "source": [
    "u.shape"
   ]
  },
  {
   "cell_type": "code",
   "execution_count": 6,
   "id": "c36f4172",
   "metadata": {},
   "outputs": [
    {
     "data": {
      "text/plain": [
       "(2000, 1968, 3)"
      ]
     },
     "execution_count": 6,
     "metadata": {},
     "output_type": "execute_result"
    }
   ],
   "source": [
    "d.shape"
   ]
  },
  {
   "cell_type": "code",
   "execution_count": 7,
   "id": "f2e03cc0",
   "metadata": {},
   "outputs": [
    {
     "data": {
      "text/plain": [
       "(1968, 1968, 3)"
      ]
     },
     "execution_count": 7,
     "metadata": {},
     "output_type": "execute_result"
    }
   ],
   "source": [
    "v.shape"
   ]
  },
  {
   "cell_type": "code",
   "execution_count": 15,
   "id": "62913c39",
   "metadata": {},
   "outputs": [],
   "source": [
    "u1=np.zeros((1500,1500,3))\n",
    "d1=np.zeros((1500,1500,3))\n",
    "v1=np.zeros((1500,1500,3))\n",
    "for i in range(1500):\n",
    "    for j in range(1500):\n",
    "        for k in range(3):\n",
    "            u1[i,j,k]=u[i,j,k]\n",
    "            d1[i,j,k]=d[i,j,k]\n",
    "            v1[i,j,k]=v[i,j,k]   "
   ]
  },
  {
   "cell_type": "code",
   "execution_count": 16,
   "id": "3e74a988",
   "metadata": {},
   "outputs": [],
   "source": [
    "def tProduct(A,B,o):\n",
    "    AFFT=np.fft.fft(A,axis=o-1)\n",
    "    BFFT=np.fft.fft(B,axis=o-1)\n",
    "    CFFT=np.zeros((A.shape[0],B.shape[1],o),dtype=complex)\n",
    "    for i in range(o):\n",
    "        CFFT[:,:,i]=np.dot(AFFT[:,:,i],BFFT[:,:,i])\n",
    "    C=np.fft.ifft(CFFT)\n",
    "    return C.real\n",
    "    "
   ]
  },
  {
   "cell_type": "code",
   "execution_count": 17,
   "id": "75b17eff",
   "metadata": {},
   "outputs": [],
   "source": [
    "def tTranspose(A):\n",
    "    AFFT=np.fft.fft(A,axis=2)\n",
    "    \n",
    "    CFFT=np.zeros((A.shape[0],A.shape[1],3),dtype=complex)\n",
    "    for i in range(3):\n",
    "        CFFT[:,:,i]=AFFT[:,:,i].T\n",
    "    C=np.fft.ifft(CFFT)\n",
    "    return C.real"
   ]
  },
  {
   "cell_type": "code",
   "execution_count": 18,
   "id": "ec940fea",
   "metadata": {},
   "outputs": [],
   "source": [
    "vt=tTranspose(v)\n",
    "M2=tProduct(tProduct(u,d,3),vt,3)"
   ]
  },
  {
   "cell_type": "code",
   "execution_count": 19,
   "id": "339487f2",
   "metadata": {},
   "outputs": [],
   "source": [
    "numpy_array_uint8 = (M2).astype(np.uint8)\n",
    "image1 = Image.fromarray(numpy_array_uint8)\n",
    "\n",
    "image1.save(\"Output\\Q3\\Original_image_TProduct.png\")"
   ]
  },
  {
   "cell_type": "code",
   "execution_count": 20,
   "id": "651fb31f",
   "metadata": {},
   "outputs": [],
   "source": [
    "v1t=tTranspose(v1)\n",
    "M3=tProduct(tProduct(u1,d1,3),v1t,3)"
   ]
  },
  {
   "cell_type": "code",
   "execution_count": 21,
   "id": "44bee179",
   "metadata": {},
   "outputs": [],
   "source": [
    "numpy_array_uint8 = (M3).astype(np.uint8)\n",
    "image1 = Image.fromarray(numpy_array_uint8)\n",
    "\n",
    "image1.save(\"Output\\Q3\\Compressed_image_TProduct.png\")"
   ]
  },
  {
   "cell_type": "code",
   "execution_count": null,
   "id": "5d68c90e",
   "metadata": {},
   "outputs": [],
   "source": []
  }
 ],
 "metadata": {
  "kernelspec": {
   "display_name": "Python 3 (ipykernel)",
   "language": "python",
   "name": "python3"
  },
  "language_info": {
   "codemirror_mode": {
    "name": "ipython",
    "version": 3
   },
   "file_extension": ".py",
   "mimetype": "text/x-python",
   "name": "python",
   "nbconvert_exporter": "python",
   "pygments_lexer": "ipython3",
   "version": "3.11.4"
  }
 },
 "nbformat": 4,
 "nbformat_minor": 5
}
