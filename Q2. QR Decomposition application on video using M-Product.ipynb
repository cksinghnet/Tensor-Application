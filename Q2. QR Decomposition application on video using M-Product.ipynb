{
 "cells": [
  {
   "cell_type": "code",
   "execution_count": null,
   "id": "78c03d61",
   "metadata": {},
   "outputs": [],
   "source": [
    "#pip install opencv-python"
   ]
  },
  {
   "cell_type": "code",
   "execution_count": 1,
   "id": "c44a1ff3",
   "metadata": {},
   "outputs": [],
   "source": [
    "import cv2\n",
    "import numpy as np\n",
    "cover_path='.\\Test-Videos-Image\\q2-cover_vid.mp4'\n",
    "secret_path='.\\Test-Videos-Image\\q2-secret_vid.mp4'\n",
    "def VideoToTensor(path):\n",
    "    cap = cv2.VideoCapture(path)\n",
    "    frames = []\n",
    "    while cap.isOpened():\n",
    "        ret, frame = cap.read()\n",
    "        if not ret:\n",
    "            break  \n",
    "    \n",
    "        frame_array = np.array(frame)\n",
    "        frames.append(frame_array)\n",
    "\n",
    "    cap.release()\n",
    "    tensor_video= np.array(frames) \n",
    "    return tensor_video\n"
   ]
  },
  {
   "cell_type": "code",
   "execution_count": 2,
   "id": "615e6133",
   "metadata": {},
   "outputs": [],
   "source": [
    "cover_video=VideoToTensor(cover_path)\n",
    "secret_video=VideoToTensor(secret_path)"
   ]
  },
  {
   "cell_type": "code",
   "execution_count": 3,
   "id": "c42a5109",
   "metadata": {},
   "outputs": [],
   "source": [
    "C = np.transpose(cover_video, (1, 2, 0, 3))\n",
    "S = np.transpose(secret_video, (1, 2, 0, 3))"
   ]
  },
  {
   "cell_type": "code",
   "execution_count": 4,
   "id": "b7e41fd7",
   "metadata": {},
   "outputs": [
    {
     "data": {
      "text/plain": [
       "(144, 144, 20, 3)"
      ]
     },
     "execution_count": 4,
     "metadata": {},
     "output_type": "execute_result"
    }
   ],
   "source": [
    "C.shape"
   ]
  },
  {
   "cell_type": "code",
   "execution_count": 5,
   "id": "5aa6b436",
   "metadata": {},
   "outputs": [
    {
     "data": {
      "text/plain": [
       "(144, 144, 20, 3)"
      ]
     },
     "execution_count": 5,
     "metadata": {},
     "output_type": "execute_result"
    }
   ],
   "source": [
    "S.shape"
   ]
  },
  {
   "cell_type": "code",
   "execution_count": 6,
   "id": "b2096c02",
   "metadata": {},
   "outputs": [],
   "source": [
    "def mDomain(A):\n",
    "    Ma,Na,Pa,Qa=A.shape\n",
    "    Am=np.zeros((Ma,Na,Pa,Qa))\n",
    "    M3=np.diag(range(1,Pa+1))\n",
    "    M3_inv = np.linalg.inv(M3)\n",
    "    for i in range(Qa):\n",
    "        Am[:,:,:,i]=np.einsum(\"lk,ijk->ijl\",M3,A[:,:,:,i])\n",
    "    M4=np.diag(range(1,Qa+1))\n",
    "    M4_inv = np.linalg.inv(M4)\n",
    "    Amm=np.einsum(\"lk,ijqk->ijql\",M4,Am)\n",
    "    return Amm\n",
    "    \n",
    "def mTotDomain(A):\n",
    "    Ma,Na,Pa,Qa=A.shape\n",
    "    Amm=np.zeros((Ma,Na,Pa,Qa))\n",
    "    M4=np.diag(range(1,Qa+1))\n",
    "    M4_inv = np.linalg.inv(M4)\n",
    "    Am=np.einsum(\"lk,ijqk->ijql\",M4_inv,A)\n",
    "    M3=np.diag(range(1,Pa+1))\n",
    "    M3_inv = np.linalg.inv(M3)\n",
    "    for i in range(Qa):\n",
    "        Amm[:,:,:,i]=np.einsum(\"lk,ijk->ijl\",M3_inv,Am[:,:,:,i])\n",
    "    return Amm\n",
    "\n",
    "def m4Product(A,B):\n",
    "    Ma,Na,Pa,Qa=A.shape\n",
    "    Mb,Nb,Pb,Qb=B.shape\n",
    "    Am=mDomain(A)\n",
    "    Bm=mDomain(B)\n",
    "    ABm=np.zeros((Ma,Nb,Pa,Qa))\n",
    "    for i in range(Pa):\n",
    "        for j in range(Qa):\n",
    "            ABm[:,:,i,j]=np.dot(Am[:,:,i,j],Bm[:,:,i,j])\n",
    "    AB=mTotDomain(ABm)\n",
    "    return AB"
   ]
  },
  {
   "cell_type": "code",
   "execution_count": 7,
   "id": "2e61f707",
   "metadata": {},
   "outputs": [],
   "source": [
    "import numpy as np\n",
    "from scipy.linalg import qr\n",
    "def QRdecomposition(A):\n",
    "    m,n,p,q=A.shape\n",
    "    \n",
    "    Am=mDomain(A)\n",
    "    k=p*q\n",
    "    \n",
    "    Q_prm=np.zeros((m,n,p,q))\n",
    "    R_prm=np.zeros((m,n,p,q))\n",
    "    for i in range(p):\n",
    "        for j in range(q):\n",
    "            Q_t,R_t=qr(Am[:,:,i,j])\n",
    "            Q_prm[:,:,i,j]=Q_t\n",
    "            R_prm[:,:,i,j]=R_t\n",
    "            \n",
    "    Q=mTotDomain(Q_prm)\n",
    "    R=mTotDomain(R_prm)\n",
    "    \n",
    "    return Q,R\n",
    "        \n",
    "        "
   ]
  },
  {
   "cell_type": "code",
   "execution_count": 8,
   "id": "903fe035",
   "metadata": {},
   "outputs": [],
   "source": [
    "Qc,Rc=QRdecomposition(C)"
   ]
  },
  {
   "cell_type": "code",
   "execution_count": 9,
   "id": "6cab560c",
   "metadata": {},
   "outputs": [],
   "source": [
    "Qs,Rs=QRdecomposition(S)"
   ]
  },
  {
   "cell_type": "code",
   "execution_count": 10,
   "id": "8c7e6af4",
   "metadata": {},
   "outputs": [],
   "source": [
    "Rt=Rc+(0.1*Rs)\n"
   ]
  },
  {
   "cell_type": "code",
   "execution_count": 11,
   "id": "10192084",
   "metadata": {},
   "outputs": [],
   "source": [
    "T=m4Product(Qc,Rt)"
   ]
  },
  {
   "cell_type": "code",
   "execution_count": 12,
   "id": "8060669a",
   "metadata": {},
   "outputs": [
    {
     "data": {
      "text/plain": [
       "(144, 144, 20, 3)"
      ]
     },
     "execution_count": 12,
     "metadata": {},
     "output_type": "execute_result"
    }
   ],
   "source": [
    "T.shape"
   ]
  },
  {
   "cell_type": "code",
   "execution_count": 13,
   "id": "d8a4250c",
   "metadata": {},
   "outputs": [],
   "source": [
    "Transfer_video = np.transpose(T, (2, 0, 1, 3))    "
   ]
  },
  {
   "cell_type": "code",
   "execution_count": 14,
   "id": "2c36c691",
   "metadata": {},
   "outputs": [
    {
     "data": {
      "text/plain": [
       "(20, 144, 144, 3)"
      ]
     },
     "execution_count": 14,
     "metadata": {},
     "output_type": "execute_result"
    }
   ],
   "source": [
    "Transfer_video.shape"
   ]
  },
  {
   "cell_type": "code",
   "execution_count": 15,
   "id": "db2a8d29",
   "metadata": {},
   "outputs": [],
   "source": [
    "Qt,Rtt=QRdecomposition(T)"
   ]
  },
  {
   "cell_type": "code",
   "execution_count": 16,
   "id": "652fb624",
   "metadata": {},
   "outputs": [
    {
     "name": "stdout",
     "output_type": "stream",
     "text": [
      "Video saved as Output\\Q2\\CoverVideoTranfered-MProduct-Output.mp4\n"
     ]
    }
   ],
   "source": [
    "def save_video(tensor, filename=\"output.mp4\", fps=30):\n",
    "    \n",
    "    T, H, W, C = tensor.shape\n",
    "    assert C in [1, 3], \"Only grayscale (C=1) or RGB (C=3) supported.\"\n",
    "\n",
    "   \n",
    "    fourcc = cv2.VideoWriter_fourcc(*'mp4v')  \n",
    "    out = cv2.VideoWriter(filename, fourcc, fps, (W, H))\n",
    "\n",
    "    for t in range(T):\n",
    "        frame = tensor[t] \n",
    "        frame = (frame).astype(np.uint8) \n",
    "        if C == 3:\n",
    "            frame = cv2.cvtColor(frame, cv2.COLOR_RGB2BGR)  \n",
    "        out.write(frame)\n",
    "\n",
    "    out.release()\n",
    "    print(f\"Video saved as {filename}\")\n",
    "\n",
    "\n",
    "save_video(Transfer_video, \"Output\\Q2\\CoverVideoTranfered-MProduct-Output.mp4\", fps=5)"
   ]
  },
  {
   "cell_type": "code",
   "execution_count": 17,
   "id": "a428a092",
   "metadata": {},
   "outputs": [],
   "source": [
    "Ro=(Rtt-Rc)/0.1"
   ]
  },
  {
   "cell_type": "code",
   "execution_count": 18,
   "id": "253ac3db",
   "metadata": {},
   "outputs": [],
   "source": [
    "O=m4Product(Qs,Ro)"
   ]
  },
  {
   "cell_type": "code",
   "execution_count": 19,
   "id": "8fe59e68",
   "metadata": {},
   "outputs": [
    {
     "data": {
      "text/plain": [
       "(144, 144, 20, 3)"
      ]
     },
     "execution_count": 19,
     "metadata": {},
     "output_type": "execute_result"
    }
   ],
   "source": [
    "O.shape"
   ]
  },
  {
   "cell_type": "code",
   "execution_count": 20,
   "id": "45b51473",
   "metadata": {},
   "outputs": [
    {
     "data": {
      "text/plain": [
       "(20, 144, 144, 3)"
      ]
     },
     "execution_count": 20,
     "metadata": {},
     "output_type": "execute_result"
    }
   ],
   "source": [
    "Org_video = np.transpose(O, (2, 0, 1, 3)) \n",
    "Org_video.shape"
   ]
  },
  {
   "cell_type": "code",
   "execution_count": 21,
   "id": "63aad312",
   "metadata": {},
   "outputs": [
    {
     "name": "stdout",
     "output_type": "stream",
     "text": [
      "Video saved as Output\\Q2\\OriginalVideoTranfered-MProduct-Output.mp4\n"
     ]
    }
   ],
   "source": [
    "save_video(Org_video, \"Output\\Q2\\OriginalVideoTranfered-MProduct-Output.mp4\", fps=5)"
   ]
  },
  {
   "cell_type": "code",
   "execution_count": null,
   "id": "c08b297f",
   "metadata": {},
   "outputs": [],
   "source": []
  },
  {
   "cell_type": "code",
   "execution_count": null,
   "id": "c51bec44",
   "metadata": {},
   "outputs": [],
   "source": []
  }
 ],
 "metadata": {
  "kernelspec": {
   "display_name": "Python 3 (ipykernel)",
   "language": "python",
   "name": "python3"
  },
  "language_info": {
   "codemirror_mode": {
    "name": "ipython",
    "version": 3
   },
   "file_extension": ".py",
   "mimetype": "text/x-python",
   "name": "python",
   "nbconvert_exporter": "python",
   "pygments_lexer": "ipython3",
   "version": "3.11.4"
  }
 },
 "nbformat": 4,
 "nbformat_minor": 5
}
