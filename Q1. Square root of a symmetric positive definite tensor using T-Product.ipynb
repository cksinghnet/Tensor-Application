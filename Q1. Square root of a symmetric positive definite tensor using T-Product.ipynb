{
 "cells": [
  {
   "cell_type": "code",
   "execution_count": 1,
   "id": "56f704c7",
   "metadata": {},
   "outputs": [],
   "source": [
    "import numpy as np"
   ]
  },
  {
   "cell_type": "code",
   "execution_count": 6,
   "id": "6375a979",
   "metadata": {},
   "outputs": [],
   "source": [
    "def symPositiveDef(n,p,m):\n",
    "    Pd=np.zeros((n,p,m))\n",
    "    for i in range(m):\n",
    "        A=np.random.rand(n,p)\n",
    "        Pd[:,:,i]=A@A.T+ n* np.eye(n)\n",
    "    return Pd\n",
    "    "
   ]
  },
  {
   "cell_type": "code",
   "execution_count": 19,
   "id": "a29d6f4e",
   "metadata": {},
   "outputs": [],
   "source": [
    "def SqrtOfsymPositiveDef(A):\n",
    "    m,n,p=A.shape\n",
    "    Af=np.fft.fft(A,axis=2)\n",
    "    V=np.zeros((m,n,p),dtype=complex)\n",
    "    D=np.zeros((m,n,p),dtype=complex)\n",
    "    Sf=np.zeros((m,n,p),dtype=complex)\n",
    "    for i in range(p):\n",
    "        Eval,EVec=np.linalg.eig(Af[:,:,i])\n",
    "        V[:,:,i]=EVec\n",
    "        D[:,:,i]=np.diag(Eval)\n",
    "        Sf[:,:,i]=V[:,:,i] @ np.sqrt(D[:,:,i]) @ V[:,:,i].T\n",
    "    S=np.fft.ifft(Sf,axis=2)\n",
    "    return S.real\n",
    "        "
   ]
  },
  {
   "cell_type": "code",
   "execution_count": 20,
   "id": "854b9c74",
   "metadata": {},
   "outputs": [
    {
     "data": {
      "text/plain": [
       "array([[[3.46596077, 3.7011227 , 4.40547217],\n",
       "        [0.43744193, 0.39779118, 0.53724394],\n",
       "        [0.69705436, 0.37519772, 0.44440732]],\n",
       "\n",
       "       [[0.43744193, 0.39779118, 0.53724394],\n",
       "        [4.0168699 , 4.27070923, 3.67866832],\n",
       "        [0.77667318, 0.90108945, 0.80501505]],\n",
       "\n",
       "       [[0.69705436, 0.37519772, 0.44440732],\n",
       "        [0.77667318, 0.90108945, 0.80501505],\n",
       "        [4.07522266, 3.88901329, 4.01864801]]])"
      ]
     },
     "execution_count": 20,
     "metadata": {},
     "output_type": "execute_result"
    }
   ],
   "source": [
    "A=symPositiveDef(3,3,3)\n",
    "A"
   ]
  },
  {
   "cell_type": "code",
   "execution_count": 21,
   "id": "5fafe606",
   "metadata": {},
   "outputs": [],
   "source": [
    "As=SqrtOfsymPositiveDef(A)"
   ]
  },
  {
   "cell_type": "code",
   "execution_count": 22,
   "id": "72fa1cf5",
   "metadata": {},
   "outputs": [
    {
     "data": {
      "text/plain": [
       "array([[[ 1.31655558,  0.5671458 ,  1.50619324],\n",
       "        [ 0.08960287, -0.02046979,  0.12089308],\n",
       "        [ 0.18619358,  0.07944907, -0.05336901]],\n",
       "\n",
       "       [[ 0.08960287, -0.02046979,  0.12089308],\n",
       "        [ 1.48839563,  1.25696537,  0.69030948],\n",
       "        [ 0.07533982,  0.21335817,  0.06669736]],\n",
       "\n",
       "       [[ 0.18619358,  0.07944907, -0.05336901],\n",
       "        [ 0.07533982,  0.21335817,  0.06669736],\n",
       "        [ 1.37348225,  0.92401516,  1.1392915 ]]])"
      ]
     },
     "execution_count": 22,
     "metadata": {},
     "output_type": "execute_result"
    }
   ],
   "source": [
    "As"
   ]
  },
  {
   "cell_type": "code",
   "execution_count": 23,
   "id": "2e0e27c0",
   "metadata": {},
   "outputs": [],
   "source": [
    "def tProduct(A,B,o):\n",
    "    AFFT=np.fft.fft(A,axis=o-1)\n",
    "    BFFT=np.fft.fft(B,axis=o-1)\n",
    "    CFFT=np.zeros((A.shape[0],B.shape[1],o),dtype=complex)\n",
    "    for i in range(o):\n",
    "        CFFT[:,:,i]=np.dot(AFFT[:,:,i],BFFT[:,:,i])\n",
    "    C=np.fft.ifft(CFFT)\n",
    "    return C.real\n",
    "    "
   ]
  },
  {
   "cell_type": "code",
   "execution_count": 24,
   "id": "dd1325ba",
   "metadata": {},
   "outputs": [
    {
     "data": {
      "text/plain": [
       "array([[[3.47104813, 3.80535693, 4.29615057],\n",
       "        [0.43483229, 0.41372287, 0.5239219 ],\n",
       "        [0.66264621, 0.37581726, 0.47819592]],\n",
       "\n",
       "       [[0.43483229, 0.41372287, 0.5239219 ],\n",
       "        [3.98792808, 4.26579481, 3.71252457],\n",
       "        [0.77882011, 0.89380485, 0.81015272]],\n",
       "\n",
       "       [[0.66264621, 0.37581726, 0.47819592],\n",
       "        [0.77882011, 0.89380485, 0.81015272],\n",
       "        [4.05222348, 3.9052533 , 4.02540718]]])"
      ]
     },
     "execution_count": 24,
     "metadata": {},
     "output_type": "execute_result"
    }
   ],
   "source": [
    "tProduct(As,As,3)"
   ]
  },
  {
   "cell_type": "code",
   "execution_count": null,
   "id": "21765bc0",
   "metadata": {},
   "outputs": [],
   "source": []
  }
 ],
 "metadata": {
  "kernelspec": {
   "display_name": "Python 3 (ipykernel)",
   "language": "python",
   "name": "python3"
  },
  "language_info": {
   "codemirror_mode": {
    "name": "ipython",
    "version": 3
   },
   "file_extension": ".py",
   "mimetype": "text/x-python",
   "name": "python",
   "nbconvert_exporter": "python",
   "pygments_lexer": "ipython3",
   "version": "3.11.4"
  }
 },
 "nbformat": 4,
 "nbformat_minor": 5
}
