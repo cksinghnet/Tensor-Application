{
 "cells": [
  {
   "cell_type": "code",
   "execution_count": null,
   "id": "78c03d61",
   "metadata": {},
   "outputs": [],
   "source": [
    "#pip install opencv-python"
   ]
  },
  {
   "cell_type": "code",
   "execution_count": 1,
   "id": "c44a1ff3",
   "metadata": {},
   "outputs": [],
   "source": [
    "import cv2\n",
    "import numpy as np\n",
    "cover_path='.\\Test-Videos-Image\\q2-cover_vid.mp4'\n",
    "secret_path='.\\Test-Videos-Image\\q2-secret_vid.mp4'\n",
    "def VideoToTensor(path):\n",
    "    cap = cv2.VideoCapture(path)\n",
    "    frames = []\n",
    "    while cap.isOpened():\n",
    "        ret, frame = cap.read()\n",
    "        if not ret:\n",
    "            break  \n",
    "    \n",
    "        frame_array = np.array(frame)\n",
    "        frames.append(frame_array)\n",
    "\n",
    "    cap.release()\n",
    "    tensor_video= np.array(frames) \n",
    "    return tensor_video\n"
   ]
  },
  {
   "cell_type": "code",
   "execution_count": 2,
   "id": "615e6133",
   "metadata": {},
   "outputs": [],
   "source": [
    "cover_video=VideoToTensor(cover_path)\n",
    "secret_video=VideoToTensor(secret_path)"
   ]
  },
  {
   "cell_type": "code",
   "execution_count": 3,
   "id": "c42a5109",
   "metadata": {},
   "outputs": [],
   "source": [
    "C = np.transpose(cover_video, (1, 2, 0, 3))\n",
    "S = np.transpose(secret_video, (1, 2, 0, 3))"
   ]
  },
  {
   "cell_type": "code",
   "execution_count": 4,
   "id": "b7e41fd7",
   "metadata": {},
   "outputs": [
    {
     "data": {
      "text/plain": [
       "(144, 144, 20, 3)"
      ]
     },
     "execution_count": 4,
     "metadata": {},
     "output_type": "execute_result"
    }
   ],
   "source": [
    "C.shape"
   ]
  },
  {
   "cell_type": "code",
   "execution_count": 5,
   "id": "5aa6b436",
   "metadata": {},
   "outputs": [
    {
     "data": {
      "text/plain": [
       "(144, 144, 20, 3)"
      ]
     },
     "execution_count": 5,
     "metadata": {},
     "output_type": "execute_result"
    }
   ],
   "source": [
    "S.shape"
   ]
  },
  {
   "cell_type": "code",
   "execution_count": 6,
   "id": "2e61f707",
   "metadata": {},
   "outputs": [],
   "source": [
    "import numpy as np\n",
    "from scipy.linalg import qr\n",
    "def QRdecomposition(A):\n",
    "    m,n,p,q=A.shape\n",
    "    A_prm = A.copy()\n",
    "    for i in [2,3]:\n",
    "        A_prm=np.fft.fft(A_prm,axis=i)\n",
    "    k=p*q\n",
    "    \n",
    "    Q_prm=np.zeros((m,n,p,q),dtype=complex)\n",
    "    R_prm=np.zeros((m,n,p,q),dtype=complex)\n",
    "    for i in range(p):\n",
    "        for j in range(q):\n",
    "            Q_t,R_t=qr(A_prm[:,:,i,j])\n",
    "            Q_prm[:,:,i,j]=Q_t\n",
    "            R_prm[:,:,i,j]=R_t\n",
    "            \n",
    "    Q=Q_prm.copy()\n",
    "    R=R_prm.copy()\n",
    "    for i in [3,2]:\n",
    "        Q=np.fft.ifft(Q,axis=i)\n",
    "        R=np.fft.ifft(R,axis=i)\n",
    "    return Q.real,R.real\n",
    "        \n",
    "        "
   ]
  },
  {
   "cell_type": "code",
   "execution_count": 7,
   "id": "903fe035",
   "metadata": {},
   "outputs": [],
   "source": [
    "Qc,Rc=QRdecomposition(C)"
   ]
  },
  {
   "cell_type": "code",
   "execution_count": 8,
   "id": "6cab560c",
   "metadata": {},
   "outputs": [],
   "source": [
    "Qs,Rs=QRdecomposition(S)"
   ]
  },
  {
   "cell_type": "code",
   "execution_count": 9,
   "id": "b2096c02",
   "metadata": {},
   "outputs": [],
   "source": [
    "def t4Product(A,B):\n",
    "    m,n,p,q=A.shape\n",
    "    m1,n1,p1,q1=B.shape\n",
    "    AFFT=A.copy()\n",
    "    BFFT=B.copy()\n",
    "    for i in [2,3]:\n",
    "        AFFT=np.fft.fft(AFFT,axis=i)\n",
    "        BFFT=np.fft.fft(BFFT,axis=i)\n",
    "\n",
    "    CFFT=np.zeros((m,n1,p,q),dtype=complex)\n",
    "    for i in range(p):\n",
    "        for j in range(q):\n",
    "            CFFT[:,:,i,j]=np.dot(AFFT[:,:,i,j],BFFT[:,:,i,j])\n",
    "    C=CFFT.copy()        \n",
    "    for i in [3,2]:\n",
    "        C=np.fft.ifft(C,axis=i)\n",
    "        \n",
    "    \n",
    "    return C.real\n",
    "    "
   ]
  },
  {
   "cell_type": "code",
   "execution_count": 10,
   "id": "8c7e6af4",
   "metadata": {},
   "outputs": [],
   "source": [
    "Rt=Rc+(0.1*Rs)\n"
   ]
  },
  {
   "cell_type": "code",
   "execution_count": 11,
   "id": "10192084",
   "metadata": {},
   "outputs": [],
   "source": [
    "T=t4Product(Qc,Rt)"
   ]
  },
  {
   "cell_type": "code",
   "execution_count": 12,
   "id": "8060669a",
   "metadata": {},
   "outputs": [
    {
     "data": {
      "text/plain": [
       "(144, 144, 20, 3)"
      ]
     },
     "execution_count": 12,
     "metadata": {},
     "output_type": "execute_result"
    }
   ],
   "source": [
    "T.shape"
   ]
  },
  {
   "cell_type": "code",
   "execution_count": 13,
   "id": "d8a4250c",
   "metadata": {},
   "outputs": [],
   "source": [
    "Transfer_video = np.transpose(T, (2, 0, 1, 3))    "
   ]
  },
  {
   "cell_type": "code",
   "execution_count": 14,
   "id": "2c36c691",
   "metadata": {},
   "outputs": [
    {
     "data": {
      "text/plain": [
       "(20, 144, 144, 3)"
      ]
     },
     "execution_count": 14,
     "metadata": {},
     "output_type": "execute_result"
    }
   ],
   "source": [
    "Transfer_video.shape"
   ]
  },
  {
   "cell_type": "code",
   "execution_count": 15,
   "id": "db2a8d29",
   "metadata": {},
   "outputs": [],
   "source": [
    "Qt,Rtt=QRdecomposition(T)"
   ]
  },
  {
   "cell_type": "code",
   "execution_count": 28,
   "id": "652fb624",
   "metadata": {},
   "outputs": [
    {
     "name": "stdout",
     "output_type": "stream",
     "text": [
      "Video saved as Output\\Q2\\CoverVideoTranfered-TProduct-Output.mp4\n"
     ]
    }
   ],
   "source": [
    "def save_video(tensor, filename=\"output.mp4\", fps=30):\n",
    "    \n",
    "    T, H, W, C = tensor.shape\n",
    "    assert C in [1, 3], \"Only grayscale (C=1) or RGB (C=3) supported.\"\n",
    "\n",
    "    \n",
    "    fourcc = cv2.VideoWriter_fourcc(*'mp4v')  \n",
    "    out = cv2.VideoWriter(filename, fourcc, fps, (W, H))\n",
    "\n",
    "    for t in range(T):\n",
    "        frame = tensor[t]  \n",
    "        frame = (frame).astype(np.uint8) \n",
    "        if C == 3:\n",
    "            frame = cv2.cvtColor(frame, cv2.COLOR_RGB2BGR) \n",
    "        out.write(frame)\n",
    "\n",
    "    out.release()\n",
    "    print(f\"Video saved as {filename}\")\n",
    "\n",
    "\n",
    "save_video(Transfer_video, \"Output\\Q2\\CoverVideoTranfered-TProduct-Output.mp4\", fps=5)"
   ]
  },
  {
   "cell_type": "code",
   "execution_count": 23,
   "id": "a428a092",
   "metadata": {},
   "outputs": [],
   "source": [
    "Ro=(Rtt-Rc)/0.1"
   ]
  },
  {
   "cell_type": "code",
   "execution_count": 24,
   "id": "253ac3db",
   "metadata": {},
   "outputs": [],
   "source": [
    "O=t4Product(Qs,Ro)"
   ]
  },
  {
   "cell_type": "code",
   "execution_count": 25,
   "id": "8fe59e68",
   "metadata": {},
   "outputs": [
    {
     "data": {
      "text/plain": [
       "(144, 144, 20, 3)"
      ]
     },
     "execution_count": 25,
     "metadata": {},
     "output_type": "execute_result"
    }
   ],
   "source": [
    "O.shape"
   ]
  },
  {
   "cell_type": "code",
   "execution_count": 26,
   "id": "45b51473",
   "metadata": {},
   "outputs": [
    {
     "data": {
      "text/plain": [
       "(20, 144, 144, 3)"
      ]
     },
     "execution_count": 26,
     "metadata": {},
     "output_type": "execute_result"
    }
   ],
   "source": [
    "Org_video = np.transpose(O, (2, 0, 1, 3)) \n",
    "Org_video.shape"
   ]
  },
  {
   "cell_type": "code",
   "execution_count": 29,
   "id": "63aad312",
   "metadata": {},
   "outputs": [
    {
     "name": "stdout",
     "output_type": "stream",
     "text": [
      "Video saved as Output\\Q2\\OriginalVideoTranfered-TProduct-Output.mp4\n"
     ]
    }
   ],
   "source": [
    "save_video(Org_video, \"Output\\Q2\\OriginalVideoTranfered-TProduct-Output.mp4\", fps=5)"
   ]
  },
  {
   "cell_type": "code",
   "execution_count": null,
   "id": "c08b297f",
   "metadata": {},
   "outputs": [],
   "source": []
  },
  {
   "cell_type": "code",
   "execution_count": null,
   "id": "c51bec44",
   "metadata": {},
   "outputs": [],
   "source": []
  }
 ],
 "metadata": {
  "kernelspec": {
   "display_name": "Python 3 (ipykernel)",
   "language": "python",
   "name": "python3"
  },
  "language_info": {
   "codemirror_mode": {
    "name": "ipython",
    "version": 3
   },
   "file_extension": ".py",
   "mimetype": "text/x-python",
   "name": "python",
   "nbconvert_exporter": "python",
   "pygments_lexer": "ipython3",
   "version": "3.11.4"
  }
 },
 "nbformat": 4,
 "nbformat_minor": 5
}
