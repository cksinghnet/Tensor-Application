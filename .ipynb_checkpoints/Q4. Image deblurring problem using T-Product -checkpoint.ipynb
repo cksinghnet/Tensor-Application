{
 "cells": [
  {
   "cell_type": "code",
   "execution_count": 2,
   "id": "dde0e2d0",
   "metadata": {},
   "outputs": [],
   "source": [
    "from PIL import Image\n",
    "import numpy as np\n",
    "\n",
    "image = Image.open(\".\\Test-Videos-Image\\q3-Image-to-compresss.png\")\n",
    "A = np.array(image)"
   ]
  },
  {
   "cell_type": "code",
   "execution_count": 3,
   "id": "47623efc",
   "metadata": {},
   "outputs": [
    {
     "data": {
      "text/plain": [
       "(2000, 1968, 3)"
      ]
     },
     "execution_count": 3,
     "metadata": {},
     "output_type": "execute_result"
    }
   ],
   "source": [
    "A.shape"
   ]
  },
  {
   "cell_type": "code",
   "execution_count": 4,
   "id": "8f10d75d",
   "metadata": {},
   "outputs": [
    {
     "data": {
      "text/plain": [
       "(1968, 2000, 3)"
      ]
     },
     "execution_count": 4,
     "metadata": {},
     "output_type": "execute_result"
    }
   ],
   "source": [
    "X= np.random.randint( 10,15,(1968,2000, 3))\n",
    "\n",
    "X.shape"
   ]
  },
  {
   "cell_type": "code",
   "execution_count": 5,
   "id": "036b05cc",
   "metadata": {},
   "outputs": [],
   "source": [
    "def TesInverse(A):\n",
    "    AI=np.zeros(( 2000,1968, 3),dtype=complex)\n",
    "    Af=np.fft.fft(A,axis=2)\n",
    "    for i in range(3):\n",
    "        AI[:,:,i]=np.linalg.pinv(Af[:,:,i])\n",
    "    AInv=np.fft.ifft(AI,axis=2).real\n",
    "    return AInv\n",
    "X_Inv=TesInverse(X)"
   ]
  },
  {
   "cell_type": "code",
   "execution_count": 6,
   "id": "133dcac8",
   "metadata": {},
   "outputs": [
    {
     "data": {
      "text/plain": [
       "(2000, 1968, 3)"
      ]
     },
     "execution_count": 6,
     "metadata": {},
     "output_type": "execute_result"
    }
   ],
   "source": [
    "X_Inv.shape"
   ]
  },
  {
   "cell_type": "code",
   "execution_count": 7,
   "id": "e17005d0",
   "metadata": {},
   "outputs": [],
   "source": [
    "def tProduct(A,B,o):\n",
    "    AFFT=np.fft.fft(A,axis=o-1)\n",
    "    BFFT=np.fft.fft(B,axis=o-1)\n",
    "    CFFT=np.zeros((A.shape[0],B.shape[1],o),dtype=complex)\n",
    "    for i in range(o):\n",
    "        CFFT[:,:,i]=np.dot(AFFT[:,:,i],BFFT[:,:,i])\n",
    "    C=np.fft.ifft(CFFT)\n",
    "    return C.real\n",
    "    "
   ]
  },
  {
   "cell_type": "code",
   "execution_count": 14,
   "id": "ff5e42d5",
   "metadata": {},
   "outputs": [
    {
     "data": {
      "text/plain": [
       "numpy.ndarray"
      ]
     },
     "execution_count": 14,
     "metadata": {},
     "output_type": "execute_result"
    }
   ],
   "source": [
    "B=tProduct(A,X,3)\n",
    "type(B)"
   ]
  },
  {
   "cell_type": "code",
   "execution_count": 9,
   "id": "694ce654",
   "metadata": {},
   "outputs": [
    {
     "data": {
      "text/plain": [
       "(2000, 2000, 3)"
      ]
     },
     "execution_count": 9,
     "metadata": {},
     "output_type": "execute_result"
    }
   ],
   "source": [
    "B.shape"
   ]
  },
  {
   "cell_type": "code",
   "execution_count": 10,
   "id": "ec14fa77",
   "metadata": {},
   "outputs": [
    {
     "data": {
      "text/plain": [
       "(2000, 1968, 3)"
      ]
     },
     "execution_count": 10,
     "metadata": {},
     "output_type": "execute_result"
    }
   ],
   "source": [
    "B_get=tProduct(B,X_Inv,3)\n",
    "B_get.shape"
   ]
  },
  {
   "cell_type": "code",
   "execution_count": 15,
   "id": "230a8b37",
   "metadata": {},
   "outputs": [],
   "source": [
    "numpy_array_uint8 = (B).astype(np.uint8)\n",
    "image1 = Image.fromarray(numpy_array_uint8)\n",
    "\n",
    "image1.save(\"Output\\Q4\\Image_blur_Tproduct.png\")"
   ]
  },
  {
   "cell_type": "code",
   "execution_count": 12,
   "id": "b30dba22",
   "metadata": {},
   "outputs": [],
   "source": [
    "numpy_array_uint7 = (B_get).astype(np.uint8)\n",
    "image2 = Image.fromarray(numpy_array_uint7)\n",
    "\n",
    "\n",
    "image2.save(\"Output\\Q4\\Original_image_Reconstructed_using_blur_Tproduct.png\")"
   ]
  },
  {
   "cell_type": "code",
   "execution_count": null,
   "id": "30f0f649",
   "metadata": {},
   "outputs": [],
   "source": []
  }
 ],
 "metadata": {
  "kernelspec": {
   "display_name": "Python 3 (ipykernel)",
   "language": "python",
   "name": "python3"
  },
  "language_info": {
   "codemirror_mode": {
    "name": "ipython",
    "version": 3
   },
   "file_extension": ".py",
   "mimetype": "text/x-python",
   "name": "python",
   "nbconvert_exporter": "python",
   "pygments_lexer": "ipython3",
   "version": "3.11.4"
  }
 },
 "nbformat": 4,
 "nbformat_minor": 5
}
