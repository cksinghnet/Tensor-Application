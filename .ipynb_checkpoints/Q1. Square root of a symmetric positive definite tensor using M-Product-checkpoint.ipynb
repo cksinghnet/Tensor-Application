{
 "cells": [
  {
   "cell_type": "code",
   "execution_count": 1,
   "id": "56f704c7",
   "metadata": {},
   "outputs": [],
   "source": [
    "import numpy as np"
   ]
  },
  {
   "cell_type": "code",
   "execution_count": 2,
   "id": "6375a979",
   "metadata": {},
   "outputs": [],
   "source": [
    "def symPositiveDef(n,p,m):\n",
    "    Pd=np.zeros((n,p,m))\n",
    "    for i in range(m):\n",
    "        A=np.random.rand(n,p)\n",
    "        Pd[:,:,i]=A@A.T+ n* np.eye(n)\n",
    "    return Pd\n",
    "    "
   ]
  },
  {
   "cell_type": "code",
   "execution_count": 3,
   "id": "a29d6f4e",
   "metadata": {},
   "outputs": [],
   "source": [
    "def SqrtOfsymPositiveDef(A):\n",
    "    m,n,p=A.shape\n",
    "    Af=np.fft.fft(A,axis=2)\n",
    "    V=np.zeros((m,n,p),dtype=complex)\n",
    "    D=np.zeros((m,n,p),dtype=complex)\n",
    "    Sf=np.zeros((m,n,p),dtype=complex)\n",
    "    for i in range(p):\n",
    "        Eval,EVec=np.linalg.eig(Af[:,:,i])\n",
    "        V[:,:,i]=EVec\n",
    "        D[:,:,i]=np.diag(Eval)\n",
    "        Sf[:,:,i]=np.dot(V[:,:,i],np.sqrt(D[:,:,i]),np.linalg.inv(V[:,:,i]))\n",
    "    S=np.fft.ifft(Sf,axis=2)\n",
    "    return S.real\n",
    "        "
   ]
  },
  {
   "cell_type": "code",
   "execution_count": 4,
   "id": "854b9c74",
   "metadata": {},
   "outputs": [],
   "source": [
    "A=symPositiveDef(3,3,3)"
   ]
  },
  {
   "cell_type": "code",
   "execution_count": 5,
   "id": "5fafe606",
   "metadata": {},
   "outputs": [
    {
     "data": {
      "text/plain": [
       "array([[[ 1.06365486,  0.38609466,  0.88246667],\n",
       "        [ 0.84805266,  0.7654205 ,  0.81285836],\n",
       "        [ 0.03172576, -0.33225439, -0.27285456]],\n",
       "\n",
       "       [[ 1.38186044,  0.52349568,  0.83937325],\n",
       "        [-0.61284721, -0.54977768, -0.58244573],\n",
       "        [-0.10256911, -0.79873113, -0.57320613]],\n",
       "\n",
       "       [[ 1.00282025, -0.11504051,  1.10189875],\n",
       "        [-0.14659368, -0.13514229, -0.15500949],\n",
       "        [ 0.54692849,  0.96715909,  1.19206547]]])"
      ]
     },
     "execution_count": 5,
     "metadata": {},
     "output_type": "execute_result"
    }
   ],
   "source": [
    "SqrtOfsymPositiveDef(A)"
   ]
  },
  {
   "cell_type": "code",
   "execution_count": null,
   "id": "2e0e27c0",
   "metadata": {},
   "outputs": [],
   "source": []
  }
 ],
 "metadata": {
  "kernelspec": {
   "display_name": "Python 3 (ipykernel)",
   "language": "python",
   "name": "python3"
  },
  "language_info": {
   "codemirror_mode": {
    "name": "ipython",
    "version": 3
   },
   "file_extension": ".py",
   "mimetype": "text/x-python",
   "name": "python",
   "nbconvert_exporter": "python",
   "pygments_lexer": "ipython3",
   "version": "3.11.4"
  }
 },
 "nbformat": 4,
 "nbformat_minor": 5
}
